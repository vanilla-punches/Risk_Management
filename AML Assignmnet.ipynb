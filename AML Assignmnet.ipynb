{
 "cells": [
  {
   "cell_type": "code",
   "execution_count": 1,
   "id": "41e3baf9",
   "metadata": {},
   "outputs": [],
   "source": [
    "import numpy as np\n",
    "import pandas as pd\n",
    "import matplotlib.pyplot as plt\n",
    "import seaborn as sns\n",
    "import random\n",
    "import missingno as msno\n",
    "import xgboost as xgb\n",
    "import shap\n",
    "from scipy.stats import norm"
   ]
  },
  {
   "cell_type": "code",
   "execution_count": 2,
   "id": "4c3ad744",
   "metadata": {},
   "outputs": [],
   "source": [
    "from sklearn import linear_model\n",
    "from sklearn import ensemble\n",
    "from sklearn import tree\n",
    "from sklearn.model_selection import train_test_split\n",
    "from sklearn import metrics\n",
    "from sklearn.metrics import mean_absolute_error, mean_squared_error, r2_score\n",
    "from sklearn.metrics import accuracy_score, classification_report, silhouette_samples, silhouette_score\n",
    "from sklearn.cluster import KMeans\n",
    "from sklearn.ensemble import RandomForestClassifier\n",
    "from sklearn.ensemble import ExtraTreesClassifier\n",
    "from sklearn.feature_selection import SelectKBest, f_classif\n",
    "from sklearn.feature_selection import RFE\n",
    "from sklearn.naive_bayes import GaussianNB"
   ]
  },
  {
   "cell_type": "code",
   "execution_count": 3,
   "id": "d5a321fb",
   "metadata": {},
   "outputs": [],
   "source": [
    "random.seed(2022)"
   ]
  },
  {
   "cell_type": "code",
   "execution_count": 4,
   "id": "0de6b1af",
   "metadata": {},
   "outputs": [],
   "source": [
    "AML = pd.read_excel('AML and ATF Modelling Assignment data_std.xlsx', sheet_name='data')"
   ]
  },
  {
   "cell_type": "code",
   "execution_count": 5,
   "id": "a9474769",
   "metadata": {},
   "outputs": [
    {
     "data": {
      "text/html": [
       "<div>\n",
       "<style scoped>\n",
       "    .dataframe tbody tr th:only-of-type {\n",
       "        vertical-align: middle;\n",
       "    }\n",
       "\n",
       "    .dataframe tbody tr th {\n",
       "        vertical-align: top;\n",
       "    }\n",
       "\n",
       "    .dataframe thead th {\n",
       "        text-align: right;\n",
       "    }\n",
       "</style>\n",
       "<table border=\"1\" class=\"dataframe\">\n",
       "  <thead>\n",
       "    <tr style=\"text-align: right;\">\n",
       "      <th></th>\n",
       "      <th>cust_tenure</th>\n",
       "      <th>cust_cdn_resident</th>\n",
       "      <th>prod_sav</th>\n",
       "      <th>prod_primary_sav_cnt</th>\n",
       "      <th>prod_cda</th>\n",
       "      <th>prod_primary_cda_cnt</th>\n",
       "      <th>prod_mor</th>\n",
       "      <th>prod_primary_mor_cnt</th>\n",
       "      <th>prod_llc</th>\n",
       "      <th>prod_primary_llc_cnt</th>\n",
       "      <th>...</th>\n",
       "      <th>acct_type_num</th>\n",
       "      <th>tot_acct_num.1</th>\n",
       "      <th>tot_cross_border_val_12m</th>\n",
       "      <th>tot_cash_val_5m</th>\n",
       "      <th>tot_cross_border_cnt_12m</th>\n",
       "      <th>tot_cash_cnt_5m</th>\n",
       "      <th>avg_cash_5m</th>\n",
       "      <th>avg_wire_12m</th>\n",
       "      <th>cust_id_masked</th>\n",
       "      <th>rating</th>\n",
       "    </tr>\n",
       "  </thead>\n",
       "  <tbody>\n",
       "    <tr>\n",
       "      <th>0</th>\n",
       "      <td>-1.024753</td>\n",
       "      <td>0.231869</td>\n",
       "      <td>-0.827535</td>\n",
       "      <td>-0.677491</td>\n",
       "      <td>-1.187365</td>\n",
       "      <td>-0.989953</td>\n",
       "      <td>-0.391077</td>\n",
       "      <td>-0.324689</td>\n",
       "      <td>1.840668</td>\n",
       "      <td>1.333540</td>\n",
       "      <td>...</td>\n",
       "      <td>-0.874462</td>\n",
       "      <td>-0.784422</td>\n",
       "      <td>-0.128725</td>\n",
       "      <td>-0.378492</td>\n",
       "      <td>-0.291457</td>\n",
       "      <td>-0.835541</td>\n",
       "      <td>-0.400281</td>\n",
       "      <td>-0.140963</td>\n",
       "      <td>004f8eab603ba30ea8fffd64ef39d5a990aff66b35f447...</td>\n",
       "      <td>0</td>\n",
       "    </tr>\n",
       "    <tr>\n",
       "      <th>1</th>\n",
       "      <td>-0.802710</td>\n",
       "      <td>-4.312772</td>\n",
       "      <td>1.208408</td>\n",
       "      <td>0.548246</td>\n",
       "      <td>0.842201</td>\n",
       "      <td>0.297862</td>\n",
       "      <td>-0.391077</td>\n",
       "      <td>-0.324689</td>\n",
       "      <td>-0.543281</td>\n",
       "      <td>-0.494249</td>\n",
       "      <td>...</td>\n",
       "      <td>-0.175843</td>\n",
       "      <td>-0.484331</td>\n",
       "      <td>-0.128725</td>\n",
       "      <td>0.027173</td>\n",
       "      <td>-0.291457</td>\n",
       "      <td>-0.576554</td>\n",
       "      <td>1.707971</td>\n",
       "      <td>-0.140963</td>\n",
       "      <td>00a38e35a8350be0d0d2ef2c7c40de54f049ff8359b54e...</td>\n",
       "      <td>1</td>\n",
       "    </tr>\n",
       "    <tr>\n",
       "      <th>2</th>\n",
       "      <td>-0.893597</td>\n",
       "      <td>0.231869</td>\n",
       "      <td>-0.827535</td>\n",
       "      <td>-0.677491</td>\n",
       "      <td>-1.187365</td>\n",
       "      <td>-0.989953</td>\n",
       "      <td>-0.391077</td>\n",
       "      <td>-0.324689</td>\n",
       "      <td>1.840668</td>\n",
       "      <td>1.333540</td>\n",
       "      <td>...</td>\n",
       "      <td>-0.874462</td>\n",
       "      <td>-0.784422</td>\n",
       "      <td>-0.128725</td>\n",
       "      <td>-0.378492</td>\n",
       "      <td>-0.291457</td>\n",
       "      <td>-0.835541</td>\n",
       "      <td>-0.400281</td>\n",
       "      <td>-0.140963</td>\n",
       "      <td>00d442a125b121bcd9e17ae58fdce2e7ae3513375afb2a...</td>\n",
       "      <td>0</td>\n",
       "    </tr>\n",
       "    <tr>\n",
       "      <th>3</th>\n",
       "      <td>-0.742306</td>\n",
       "      <td>0.231869</td>\n",
       "      <td>1.208408</td>\n",
       "      <td>0.548246</td>\n",
       "      <td>-1.187365</td>\n",
       "      <td>-0.989953</td>\n",
       "      <td>-0.391077</td>\n",
       "      <td>-0.324689</td>\n",
       "      <td>-0.543281</td>\n",
       "      <td>-0.494249</td>\n",
       "      <td>...</td>\n",
       "      <td>-0.874462</td>\n",
       "      <td>-0.784422</td>\n",
       "      <td>-0.128725</td>\n",
       "      <td>-0.378492</td>\n",
       "      <td>-0.291457</td>\n",
       "      <td>-0.835541</td>\n",
       "      <td>-0.400281</td>\n",
       "      <td>-0.140963</td>\n",
       "      <td>0114b5ce76aa3c09c460620cc19f1a77087ede3c326021...</td>\n",
       "      <td>0</td>\n",
       "    </tr>\n",
       "    <tr>\n",
       "      <th>4</th>\n",
       "      <td>0.574287</td>\n",
       "      <td>0.231869</td>\n",
       "      <td>-0.827535</td>\n",
       "      <td>-0.677491</td>\n",
       "      <td>0.842201</td>\n",
       "      <td>0.297862</td>\n",
       "      <td>-0.391077</td>\n",
       "      <td>-0.324689</td>\n",
       "      <td>-0.543281</td>\n",
       "      <td>-0.494249</td>\n",
       "      <td>...</td>\n",
       "      <td>-0.874462</td>\n",
       "      <td>-0.784422</td>\n",
       "      <td>-0.128725</td>\n",
       "      <td>-0.081122</td>\n",
       "      <td>-0.291457</td>\n",
       "      <td>0.718380</td>\n",
       "      <td>-0.142708</td>\n",
       "      <td>-0.140963</td>\n",
       "      <td>015a0ba1cb86c4e46bb01f8ed501254cfb7422e240583f...</td>\n",
       "      <td>0</td>\n",
       "    </tr>\n",
       "  </tbody>\n",
       "</table>\n",
       "<p>5 rows × 152 columns</p>\n",
       "</div>"
      ],
      "text/plain": [
       "   cust_tenure  cust_cdn_resident  prod_sav  prod_primary_sav_cnt  prod_cda  \\\n",
       "0    -1.024753           0.231869 -0.827535             -0.677491 -1.187365   \n",
       "1    -0.802710          -4.312772  1.208408              0.548246  0.842201   \n",
       "2    -0.893597           0.231869 -0.827535             -0.677491 -1.187365   \n",
       "3    -0.742306           0.231869  1.208408              0.548246 -1.187365   \n",
       "4     0.574287           0.231869 -0.827535             -0.677491  0.842201   \n",
       "\n",
       "   prod_primary_cda_cnt  prod_mor  prod_primary_mor_cnt  prod_llc  \\\n",
       "0             -0.989953 -0.391077             -0.324689  1.840668   \n",
       "1              0.297862 -0.391077             -0.324689 -0.543281   \n",
       "2             -0.989953 -0.391077             -0.324689  1.840668   \n",
       "3             -0.989953 -0.391077             -0.324689 -0.543281   \n",
       "4              0.297862 -0.391077             -0.324689 -0.543281   \n",
       "\n",
       "   prod_primary_llc_cnt  ...  acct_type_num  tot_acct_num.1  \\\n",
       "0              1.333540  ...      -0.874462       -0.784422   \n",
       "1             -0.494249  ...      -0.175843       -0.484331   \n",
       "2              1.333540  ...      -0.874462       -0.784422   \n",
       "3             -0.494249  ...      -0.874462       -0.784422   \n",
       "4             -0.494249  ...      -0.874462       -0.784422   \n",
       "\n",
       "   tot_cross_border_val_12m  tot_cash_val_5m  tot_cross_border_cnt_12m  \\\n",
       "0                 -0.128725        -0.378492                 -0.291457   \n",
       "1                 -0.128725         0.027173                 -0.291457   \n",
       "2                 -0.128725        -0.378492                 -0.291457   \n",
       "3                 -0.128725        -0.378492                 -0.291457   \n",
       "4                 -0.128725        -0.081122                 -0.291457   \n",
       "\n",
       "   tot_cash_cnt_5m  avg_cash_5m  avg_wire_12m  \\\n",
       "0        -0.835541    -0.400281     -0.140963   \n",
       "1        -0.576554     1.707971     -0.140963   \n",
       "2        -0.835541    -0.400281     -0.140963   \n",
       "3        -0.835541    -0.400281     -0.140963   \n",
       "4         0.718380    -0.142708     -0.140963   \n",
       "\n",
       "                                      cust_id_masked  rating  \n",
       "0  004f8eab603ba30ea8fffd64ef39d5a990aff66b35f447...       0  \n",
       "1  00a38e35a8350be0d0d2ef2c7c40de54f049ff8359b54e...       1  \n",
       "2  00d442a125b121bcd9e17ae58fdce2e7ae3513375afb2a...       0  \n",
       "3  0114b5ce76aa3c09c460620cc19f1a77087ede3c326021...       0  \n",
       "4  015a0ba1cb86c4e46bb01f8ed501254cfb7422e240583f...       0  \n",
       "\n",
       "[5 rows x 152 columns]"
      ]
     },
     "execution_count": 5,
     "metadata": {},
     "output_type": "execute_result"
    }
   ],
   "source": [
    "AML.head()"
   ]
  },
  {
   "cell_type": "code",
   "execution_count": 6,
   "id": "a17de94c",
   "metadata": {},
   "outputs": [
    {
     "data": {
      "text/plain": [
       "cust_tenure             0\n",
       "cust_cdn_resident       0\n",
       "prod_sav                0\n",
       "prod_primary_sav_cnt    0\n",
       "prod_cda                0\n",
       "                       ..\n",
       "tot_cash_cnt_5m         0\n",
       "avg_cash_5m             0\n",
       "avg_wire_12m            0\n",
       "cust_id_masked          0\n",
       "rating                  0\n",
       "Length: 152, dtype: int64"
      ]
     },
     "execution_count": 6,
     "metadata": {},
     "output_type": "execute_result"
    }
   ],
   "source": [
    "#Checking Missing or NaN Values\n",
    "AML.isnull().sum()"
   ]
  },
  {
   "cell_type": "code",
   "execution_count": 7,
   "id": "36f5f188",
   "metadata": {},
   "outputs": [
    {
     "data": {
      "text/plain": [
       "[]"
      ]
     },
     "execution_count": 7,
     "metadata": {},
     "output_type": "execute_result"
    }
   ],
   "source": [
    "list(AML.columns[AML.isnull().any()])"
   ]
  },
  {
   "cell_type": "code",
   "execution_count": 8,
   "id": "7724e060",
   "metadata": {},
   "outputs": [
    {
     "data": {
      "text/html": [
       "<div>\n",
       "<style scoped>\n",
       "    .dataframe tbody tr th:only-of-type {\n",
       "        vertical-align: middle;\n",
       "    }\n",
       "\n",
       "    .dataframe tbody tr th {\n",
       "        vertical-align: top;\n",
       "    }\n",
       "\n",
       "    .dataframe thead th {\n",
       "        text-align: right;\n",
       "    }\n",
       "</style>\n",
       "<table border=\"1\" class=\"dataframe\">\n",
       "  <thead>\n",
       "    <tr style=\"text-align: right;\">\n",
       "      <th></th>\n",
       "      <th>cust_tenure</th>\n",
       "      <th>cust_cdn_resident</th>\n",
       "      <th>prod_sav</th>\n",
       "      <th>prod_primary_sav_cnt</th>\n",
       "      <th>prod_cda</th>\n",
       "      <th>prod_primary_cda_cnt</th>\n",
       "      <th>prod_mor</th>\n",
       "      <th>prod_primary_mor_cnt</th>\n",
       "      <th>prod_llc</th>\n",
       "      <th>prod_primary_llc_cnt</th>\n",
       "      <th>...</th>\n",
       "      <th>max_acct_num</th>\n",
       "      <th>acct_type_num</th>\n",
       "      <th>tot_acct_num.1</th>\n",
       "      <th>tot_cross_border_val_12m</th>\n",
       "      <th>tot_cash_val_5m</th>\n",
       "      <th>tot_cross_border_cnt_12m</th>\n",
       "      <th>tot_cash_cnt_5m</th>\n",
       "      <th>avg_cash_5m</th>\n",
       "      <th>avg_wire_12m</th>\n",
       "      <th>rating</th>\n",
       "    </tr>\n",
       "  </thead>\n",
       "  <tbody>\n",
       "    <tr>\n",
       "      <th>count</th>\n",
       "      <td>5.880000e+02</td>\n",
       "      <td>5.880000e+02</td>\n",
       "      <td>5.880000e+02</td>\n",
       "      <td>5.880000e+02</td>\n",
       "      <td>5.880000e+02</td>\n",
       "      <td>5.880000e+02</td>\n",
       "      <td>5.880000e+02</td>\n",
       "      <td>5.880000e+02</td>\n",
       "      <td>5.880000e+02</td>\n",
       "      <td>5.880000e+02</td>\n",
       "      <td>...</td>\n",
       "      <td>5.880000e+02</td>\n",
       "      <td>5.880000e+02</td>\n",
       "      <td>5.880000e+02</td>\n",
       "      <td>5.880000e+02</td>\n",
       "      <td>5.880000e+02</td>\n",
       "      <td>5.880000e+02</td>\n",
       "      <td>5.880000e+02</td>\n",
       "      <td>5.880000e+02</td>\n",
       "      <td>5.880000e+02</td>\n",
       "      <td>588.000000</td>\n",
       "    </tr>\n",
       "    <tr>\n",
       "      <th>mean</th>\n",
       "      <td>-3.318396e-17</td>\n",
       "      <td>-2.513107e-16</td>\n",
       "      <td>-5.777691e-17</td>\n",
       "      <td>-1.299036e-16</td>\n",
       "      <td>-1.125328e-16</td>\n",
       "      <td>8.685418e-18</td>\n",
       "      <td>-2.749124e-16</td>\n",
       "      <td>-1.691768e-16</td>\n",
       "      <td>-1.400996e-16</td>\n",
       "      <td>4.418234e-17</td>\n",
       "      <td>...</td>\n",
       "      <td>-4.663692e-17</td>\n",
       "      <td>4.135014e-17</td>\n",
       "      <td>1.496347e-17</td>\n",
       "      <td>-2.115655e-16</td>\n",
       "      <td>5.456708e-17</td>\n",
       "      <td>-6.683996e-17</td>\n",
       "      <td>5.607759e-17</td>\n",
       "      <td>4.805302e-17</td>\n",
       "      <td>8.185063e-17</td>\n",
       "      <td>0.336735</td>\n",
       "    </tr>\n",
       "    <tr>\n",
       "      <th>std</th>\n",
       "      <td>1.000851e+00</td>\n",
       "      <td>1.000851e+00</td>\n",
       "      <td>1.000851e+00</td>\n",
       "      <td>1.000851e+00</td>\n",
       "      <td>1.000851e+00</td>\n",
       "      <td>1.000851e+00</td>\n",
       "      <td>1.000851e+00</td>\n",
       "      <td>1.000851e+00</td>\n",
       "      <td>1.000851e+00</td>\n",
       "      <td>1.000851e+00</td>\n",
       "      <td>...</td>\n",
       "      <td>1.000851e+00</td>\n",
       "      <td>1.000851e+00</td>\n",
       "      <td>1.000851e+00</td>\n",
       "      <td>1.000851e+00</td>\n",
       "      <td>1.000851e+00</td>\n",
       "      <td>1.000851e+00</td>\n",
       "      <td>1.000851e+00</td>\n",
       "      <td>1.000851e+00</td>\n",
       "      <td>1.000851e+00</td>\n",
       "      <td>0.472996</td>\n",
       "    </tr>\n",
       "    <tr>\n",
       "      <th>min</th>\n",
       "      <td>-1.038455e+00</td>\n",
       "      <td>-4.312772e+00</td>\n",
       "      <td>-8.275347e-01</td>\n",
       "      <td>-6.774907e-01</td>\n",
       "      <td>-1.187365e+00</td>\n",
       "      <td>-9.899530e-01</td>\n",
       "      <td>-3.910769e-01</td>\n",
       "      <td>-3.246891e-01</td>\n",
       "      <td>-5.432809e-01</td>\n",
       "      <td>-4.942490e-01</td>\n",
       "      <td>...</td>\n",
       "      <td>-1.261487e+00</td>\n",
       "      <td>-1.573081e+00</td>\n",
       "      <td>-1.084513e+00</td>\n",
       "      <td>-1.287247e-01</td>\n",
       "      <td>-3.784918e-01</td>\n",
       "      <td>-2.914573e-01</td>\n",
       "      <td>-8.355407e-01</td>\n",
       "      <td>-4.002812e-01</td>\n",
       "      <td>-1.409628e-01</td>\n",
       "      <td>0.000000</td>\n",
       "    </tr>\n",
       "    <tr>\n",
       "      <th>25%</th>\n",
       "      <td>-8.234744e-01</td>\n",
       "      <td>2.318694e-01</td>\n",
       "      <td>-8.275347e-01</td>\n",
       "      <td>-6.774907e-01</td>\n",
       "      <td>-1.187365e+00</td>\n",
       "      <td>-9.899530e-01</td>\n",
       "      <td>-3.910769e-01</td>\n",
       "      <td>-3.246891e-01</td>\n",
       "      <td>-5.432809e-01</td>\n",
       "      <td>-4.942490e-01</td>\n",
       "      <td>...</td>\n",
       "      <td>-6.021500e-01</td>\n",
       "      <td>-8.744621e-01</td>\n",
       "      <td>-7.844219e-01</td>\n",
       "      <td>-1.287247e-01</td>\n",
       "      <td>-3.784918e-01</td>\n",
       "      <td>-2.914573e-01</td>\n",
       "      <td>-8.355407e-01</td>\n",
       "      <td>-4.002812e-01</td>\n",
       "      <td>-1.409628e-01</td>\n",
       "      <td>0.000000</td>\n",
       "    </tr>\n",
       "    <tr>\n",
       "      <th>50%</th>\n",
       "      <td>-4.450379e-01</td>\n",
       "      <td>2.318694e-01</td>\n",
       "      <td>-8.275347e-01</td>\n",
       "      <td>-6.774907e-01</td>\n",
       "      <td>8.422009e-01</td>\n",
       "      <td>2.978620e-01</td>\n",
       "      <td>-3.910769e-01</td>\n",
       "      <td>-3.246891e-01</td>\n",
       "      <td>-5.432809e-01</td>\n",
       "      <td>-4.942490e-01</td>\n",
       "      <td>...</td>\n",
       "      <td>-6.021500e-01</td>\n",
       "      <td>-1.758429e-01</td>\n",
       "      <td>-1.842396e-01</td>\n",
       "      <td>-1.287247e-01</td>\n",
       "      <td>-3.200575e-01</td>\n",
       "      <td>-2.914573e-01</td>\n",
       "      <td>-4.470605e-01</td>\n",
       "      <td>-2.928083e-01</td>\n",
       "      <td>-1.409628e-01</td>\n",
       "      <td>0.000000</td>\n",
       "    </tr>\n",
       "    <tr>\n",
       "      <th>75%</th>\n",
       "      <td>6.744713e-01</td>\n",
       "      <td>2.318694e-01</td>\n",
       "      <td>1.208408e+00</td>\n",
       "      <td>5.482463e-01</td>\n",
       "      <td>8.422009e-01</td>\n",
       "      <td>2.978620e-01</td>\n",
       "      <td>-3.910769e-01</td>\n",
       "      <td>-3.246891e-01</td>\n",
       "      <td>-5.432809e-01</td>\n",
       "      <td>-4.942490e-01</td>\n",
       "      <td>...</td>\n",
       "      <td>5.718743e-02</td>\n",
       "      <td>5.227763e-01</td>\n",
       "      <td>4.159426e-01</td>\n",
       "      <td>-1.287247e-01</td>\n",
       "      <td>-8.232960e-03</td>\n",
       "      <td>-2.914573e-01</td>\n",
       "      <td>6.212600e-01</td>\n",
       "      <td>2.436413e-02</td>\n",
       "      <td>-1.409628e-01</td>\n",
       "      <td>1.000000</td>\n",
       "    </tr>\n",
       "    <tr>\n",
       "      <th>max</th>\n",
       "      <td>3.090299e+00</td>\n",
       "      <td>2.318694e-01</td>\n",
       "      <td>1.208408e+00</td>\n",
       "      <td>5.451195e+00</td>\n",
       "      <td>8.422009e-01</td>\n",
       "      <td>4.161307e+00</td>\n",
       "      <td>2.557042e+00</td>\n",
       "      <td>8.514069e+00</td>\n",
       "      <td>1.840668e+00</td>\n",
       "      <td>4.989118e+00</td>\n",
       "      <td>...</td>\n",
       "      <td>7.309899e+00</td>\n",
       "      <td>2.618634e+00</td>\n",
       "      <td>6.117674e+00</td>\n",
       "      <td>1.406890e+01</td>\n",
       "      <td>1.426850e+01</td>\n",
       "      <td>9.874967e+00</td>\n",
       "      <td>4.732675e+00</td>\n",
       "      <td>1.165024e+01</td>\n",
       "      <td>1.561887e+01</td>\n",
       "      <td>1.000000</td>\n",
       "    </tr>\n",
       "  </tbody>\n",
       "</table>\n",
       "<p>8 rows × 151 columns</p>\n",
       "</div>"
      ],
      "text/plain": [
       "        cust_tenure  cust_cdn_resident      prod_sav  prod_primary_sav_cnt  \\\n",
       "count  5.880000e+02       5.880000e+02  5.880000e+02          5.880000e+02   \n",
       "mean  -3.318396e-17      -2.513107e-16 -5.777691e-17         -1.299036e-16   \n",
       "std    1.000851e+00       1.000851e+00  1.000851e+00          1.000851e+00   \n",
       "min   -1.038455e+00      -4.312772e+00 -8.275347e-01         -6.774907e-01   \n",
       "25%   -8.234744e-01       2.318694e-01 -8.275347e-01         -6.774907e-01   \n",
       "50%   -4.450379e-01       2.318694e-01 -8.275347e-01         -6.774907e-01   \n",
       "75%    6.744713e-01       2.318694e-01  1.208408e+00          5.482463e-01   \n",
       "max    3.090299e+00       2.318694e-01  1.208408e+00          5.451195e+00   \n",
       "\n",
       "           prod_cda  prod_primary_cda_cnt      prod_mor  prod_primary_mor_cnt  \\\n",
       "count  5.880000e+02          5.880000e+02  5.880000e+02          5.880000e+02   \n",
       "mean  -1.125328e-16          8.685418e-18 -2.749124e-16         -1.691768e-16   \n",
       "std    1.000851e+00          1.000851e+00  1.000851e+00          1.000851e+00   \n",
       "min   -1.187365e+00         -9.899530e-01 -3.910769e-01         -3.246891e-01   \n",
       "25%   -1.187365e+00         -9.899530e-01 -3.910769e-01         -3.246891e-01   \n",
       "50%    8.422009e-01          2.978620e-01 -3.910769e-01         -3.246891e-01   \n",
       "75%    8.422009e-01          2.978620e-01 -3.910769e-01         -3.246891e-01   \n",
       "max    8.422009e-01          4.161307e+00  2.557042e+00          8.514069e+00   \n",
       "\n",
       "           prod_llc  prod_primary_llc_cnt  ...  max_acct_num  acct_type_num  \\\n",
       "count  5.880000e+02          5.880000e+02  ...  5.880000e+02   5.880000e+02   \n",
       "mean  -1.400996e-16          4.418234e-17  ... -4.663692e-17   4.135014e-17   \n",
       "std    1.000851e+00          1.000851e+00  ...  1.000851e+00   1.000851e+00   \n",
       "min   -5.432809e-01         -4.942490e-01  ... -1.261487e+00  -1.573081e+00   \n",
       "25%   -5.432809e-01         -4.942490e-01  ... -6.021500e-01  -8.744621e-01   \n",
       "50%   -5.432809e-01         -4.942490e-01  ... -6.021500e-01  -1.758429e-01   \n",
       "75%   -5.432809e-01         -4.942490e-01  ...  5.718743e-02   5.227763e-01   \n",
       "max    1.840668e+00          4.989118e+00  ...  7.309899e+00   2.618634e+00   \n",
       "\n",
       "       tot_acct_num.1  tot_cross_border_val_12m  tot_cash_val_5m  \\\n",
       "count    5.880000e+02              5.880000e+02     5.880000e+02   \n",
       "mean     1.496347e-17             -2.115655e-16     5.456708e-17   \n",
       "std      1.000851e+00              1.000851e+00     1.000851e+00   \n",
       "min     -1.084513e+00             -1.287247e-01    -3.784918e-01   \n",
       "25%     -7.844219e-01             -1.287247e-01    -3.784918e-01   \n",
       "50%     -1.842396e-01             -1.287247e-01    -3.200575e-01   \n",
       "75%      4.159426e-01             -1.287247e-01    -8.232960e-03   \n",
       "max      6.117674e+00              1.406890e+01     1.426850e+01   \n",
       "\n",
       "       tot_cross_border_cnt_12m  tot_cash_cnt_5m   avg_cash_5m  avg_wire_12m  \\\n",
       "count              5.880000e+02     5.880000e+02  5.880000e+02  5.880000e+02   \n",
       "mean              -6.683996e-17     5.607759e-17  4.805302e-17  8.185063e-17   \n",
       "std                1.000851e+00     1.000851e+00  1.000851e+00  1.000851e+00   \n",
       "min               -2.914573e-01    -8.355407e-01 -4.002812e-01 -1.409628e-01   \n",
       "25%               -2.914573e-01    -8.355407e-01 -4.002812e-01 -1.409628e-01   \n",
       "50%               -2.914573e-01    -4.470605e-01 -2.928083e-01 -1.409628e-01   \n",
       "75%               -2.914573e-01     6.212600e-01  2.436413e-02 -1.409628e-01   \n",
       "max                9.874967e+00     4.732675e+00  1.165024e+01  1.561887e+01   \n",
       "\n",
       "           rating  \n",
       "count  588.000000  \n",
       "mean     0.336735  \n",
       "std      0.472996  \n",
       "min      0.000000  \n",
       "25%      0.000000  \n",
       "50%      0.000000  \n",
       "75%      1.000000  \n",
       "max      1.000000  \n",
       "\n",
       "[8 rows x 151 columns]"
      ]
     },
     "execution_count": 8,
     "metadata": {},
     "output_type": "execute_result"
    }
   ],
   "source": [
    "AML.describe()"
   ]
  },
  {
   "cell_type": "code",
   "execution_count": 9,
   "id": "12659010",
   "metadata": {},
   "outputs": [
    {
     "data": {
      "text/plain": [
       "(0    390\n",
       " 1    198\n",
       " Name: rating, dtype: int64,\n",
       " -0.823964    21\n",
       "  1.820967     7\n",
       " -0.823405     6\n",
       "  1.711344     6\n",
       " -0.823684     6\n",
       "              ..\n",
       " -0.950366     1\n",
       " -0.564169     1\n",
       "  1.555020     1\n",
       " -0.311365     1\n",
       " -0.078417     1\n",
       " Name: cust_tenure, Length: 492, dtype: int64,\n",
       "  0.231869    558\n",
       " -4.312772     30\n",
       " Name: cust_cdn_resident, dtype: int64)"
      ]
     },
     "execution_count": 9,
     "metadata": {},
     "output_type": "execute_result"
    }
   ],
   "source": [
    "AML['rating'].value_counts(), AML['cust_tenure'].value_counts(), AML['cust_cdn_resident'].value_counts()"
   ]
  },
  {
   "cell_type": "code",
   "execution_count": 10,
   "id": "03e9a1e9",
   "metadata": {},
   "outputs": [
    {
     "data": {
      "text/plain": [
       "cust_tenure             492\n",
       "cust_cdn_resident         2\n",
       "prod_sav                  2\n",
       "prod_primary_sav_cnt      6\n",
       "prod_cda                  2\n",
       "                       ... \n",
       "tot_cash_cnt_5m          33\n",
       "avg_cash_5m             354\n",
       "avg_wire_12m            109\n",
       "cust_id_masked          588\n",
       "rating                    2\n",
       "Length: 152, dtype: int64"
      ]
     },
     "execution_count": 10,
     "metadata": {},
     "output_type": "execute_result"
    }
   ],
   "source": [
    "AML.nunique()"
   ]
  },
  {
   "cell_type": "code",
   "execution_count": 11,
   "id": "0371b088",
   "metadata": {},
   "outputs": [
    {
     "data": {
      "image/png": "[encoded data removed]",
      "text/plain": [
       "<Figure size 1800x720 with 2 Axes>"
      ]
     },
     "metadata": {
      "needs_background": "light"
     },
     "output_type": "display_data"
    }
   ],
   "source": [
    "msno.matrix(AML)\n",
    "plt.show()\n",
    "\n",
    "# msno.bar(AML)\n",
    "# plt.show()"
   ]
  },
  {
   "cell_type": "markdown",
   "id": "e47b415e",
   "metadata": {},
   "source": [
    "### It looks like data is already clean"
   ]
  },
  {
   "cell_type": "code",
   "execution_count": 12,
   "id": "8baf1eab",
   "metadata": {},
   "outputs": [],
   "source": [
    "AML_check = AML.drop(columns=['cust_id_masked'])\n",
    "AML_check_test = AML.drop(columns=['cust_id_masked','rating'])"
   ]
  },
  {
   "cell_type": "code",
   "execution_count": 13,
   "id": "bd172af5",
   "metadata": {},
   "outputs": [],
   "source": [
    "y_trains = AML_check['rating']\n",
    "x_trains = AML_check.drop(columns='rating')"
   ]
  },
  {
   "cell_type": "code",
   "execution_count": 14,
   "id": "98fe1e35",
   "metadata": {},
   "outputs": [],
   "source": [
    "X_train, X_test, y_train, y_test = train_test_split(x_trains, y_trains, test_size = 0.2, random_state = 2022)"
   ]
  },
  {
   "cell_type": "code",
   "execution_count": 15,
   "id": "87264d53",
   "metadata": {},
   "outputs": [
    {
     "data": {
      "text/html": [
       "<style>#sk-container-id-1 {color: black;background-color: white;}#sk-container-id-1 pre{padding: 0;}#sk-container-id-1 div.sk-toggleable {background-color: white;}#sk-container-id-1 label.sk-toggleable__label {cursor: pointer;display: block;width: 100%;margin-bottom: 0;padding: 0.3em;box-sizing: border-box;text-align: center;}#sk-container-id-1 label.sk-toggleable__label-arrow:before {content: \"▸\";float: left;margin-right: 0.25em;color: #696969;}#sk-container-id-1 label.sk-toggleable__label-arrow:hover:before {color: black;}#sk-container-id-1 div.sk-estimator:hover label.sk-toggleable__label-arrow:before {color: black;}#sk-container-id-1 div.sk-toggleable__content {max-height: 0;max-width: 0;overflow: hidden;text-align: left;background-color: #f0f8ff;}#sk-container-id-1 div.sk-toggleable__content pre {margin: 0.2em;color: black;border-radius: 0.25em;background-color: #f0f8ff;}#sk-container-id-1 input.sk-toggleable__control:checked~div.sk-toggleable__content {max-height: 200px;max-width: 100%;overflow: auto;}#sk-container-id-1 input.sk-toggleable__control:checked~label.sk-toggleable__label-arrow:before {content: \"▾\";}#sk-container-id-1 div.sk-estimator input.sk-toggleable__control:checked~label.sk-toggleable__label {background-color: #d4ebff;}#sk-container-id-1 div.sk-label input.sk-toggleable__control:checked~label.sk-toggleable__label {background-color: #d4ebff;}#sk-container-id-1 input.sk-hidden--visually {border: 0;clip: rect(1px 1px 1px 1px);clip: rect(1px, 1px, 1px, 1px);height: 1px;margin: -1px;overflow: hidden;padding: 0;position: absolute;width: 1px;}#sk-container-id-1 div.sk-estimator {font-family: monospace;background-color: #f0f8ff;border: 1px dotted black;border-radius: 0.25em;box-sizing: border-box;margin-bottom: 0.5em;}#sk-container-id-1 div.sk-estimator:hover {background-color: #d4ebff;}#sk-container-id-1 div.sk-parallel-item::after {content: \"\";width: 100%;border-bottom: 1px solid gray;flex-grow: 1;}#sk-container-id-1 div.sk-label:hover label.sk-toggleable__label {background-color: #d4ebff;}#sk-container-id-1 div.sk-serial::before {content: \"\";position: absolute;border-left: 1px solid gray;box-sizing: border-box;top: 0;bottom: 0;left: 50%;z-index: 0;}#sk-container-id-1 div.sk-serial {display: flex;flex-direction: column;align-items: center;background-color: white;padding-right: 0.2em;padding-left: 0.2em;position: relative;}#sk-container-id-1 div.sk-item {position: relative;z-index: 1;}#sk-container-id-1 div.sk-parallel {display: flex;align-items: stretch;justify-content: center;background-color: white;position: relative;}#sk-container-id-1 div.sk-item::before, #sk-container-id-1 div.sk-parallel-item::before {content: \"\";position: absolute;border-left: 1px solid gray;box-sizing: border-box;top: 0;bottom: 0;left: 50%;z-index: -1;}#sk-container-id-1 div.sk-parallel-item {display: flex;flex-direction: column;z-index: 1;position: relative;background-color: white;}#sk-container-id-1 div.sk-parallel-item:first-child::after {align-self: flex-end;width: 50%;}#sk-container-id-1 div.sk-parallel-item:last-child::after {align-self: flex-start;width: 50%;}#sk-container-id-1 div.sk-parallel-item:only-child::after {width: 0;}#sk-container-id-1 div.sk-dashed-wrapped {border: 1px dashed gray;margin: 0 0.4em 0.5em 0.4em;box-sizing: border-box;padding-bottom: 0.4em;background-color: white;}#sk-container-id-1 div.sk-label label {font-family: monospace;font-weight: bold;display: inline-block;line-height: 1.2em;}#sk-container-id-1 div.sk-label-container {text-align: center;}#sk-container-id-1 div.sk-container {/* jupyter's `normalize.less` sets `[hidden] { display: none; }` but bootstrap.min.css set `[hidden] { display: none !important; }` so we also need the `!important` here to be able to override the default hidden behavior on the sphinx rendered scikit-learn.org. See: https://github.com/scikit-learn/scikit-learn/issues/21755 */display: inline-block !important;position: relative;}#sk-container-id-1 div.sk-text-repr-fallback {display: none;}</style><div id=\"sk-container-id-1\" class=\"sk-top-container\"><div class=\"sk-text-repr-fallback\"><pre>RandomForestClassifier(class_weight=&#x27;balanced&#x27;, random_state=2022)</pre><b>In a Jupyter environment, please rerun this cell to show the HTML representation or trust the notebook. <br />On GitHub, the HTML representation is unable to render, please try loading this page with nbviewer.org.</b></div><div class=\"sk-container\" hidden><div class=\"sk-item\"><div class=\"sk-estimator sk-toggleable\"><input class=\"sk-toggleable__control sk-hidden--visually\" id=\"sk-estimator-id-1\" type=\"checkbox\" checked><label for=\"sk-estimator-id-1\" class=\"sk-toggleable__label sk-toggleable__label-arrow\">RandomForestClassifier</label><div class=\"sk-toggleable__content\"><pre>RandomForestClassifier(class_weight=&#x27;balanced&#x27;, random_state=2022)</pre></div></div></div></div></div>"
      ],
      "text/plain": [
       "RandomForestClassifier(class_weight='balanced', random_state=2022)"
      ]
     },
     "execution_count": 15,
     "metadata": {},
     "output_type": "execute_result"
    }
   ],
   "source": [
    "clf = RandomForestClassifier(n_estimators = 100, class_weight=\"balanced\", random_state=2022)\n",
    "clf.fit(X_train, y_train)"
   ]
  },
  {
   "cell_type": "code",
   "execution_count": 16,
   "id": "55512a82",
   "metadata": {},
   "outputs": [
    {
     "name": "stdout",
     "output_type": "stream",
     "text": [
      "              precision    recall  f1-score   support\n",
      "\n",
      "           0       0.82      0.94      0.88        82\n",
      "           1       0.79      0.53      0.63        36\n",
      "\n",
      "    accuracy                           0.81       118\n",
      "   macro avg       0.81      0.73      0.75       118\n",
      "weighted avg       0.81      0.81      0.80       118\n",
      "\n",
      "accuracy score: 0.8135593220338984\n",
      "auc score:  0.73340108401084\n"
     ]
    }
   ],
   "source": [
    "y_pred = clf.predict(X_test)\n",
    "print(classification_report(y_test, y_pred))\n",
    "print('accuracy score:', accuracy_score(y_test, y_pred))\n",
    "\n",
    "fpr, tpr, thresholds = metrics.roc_curve(y_test, y_pred)\n",
    "print('auc score: ', metrics.auc(fpr, tpr))"
   ]
  },
  {
   "cell_type": "code",
   "execution_count": 17,
   "id": "13ce4eef",
   "metadata": {},
   "outputs": [
    {
     "data": {
      "image/png": "[encoded data removed]",
      "text/plain": [
       "<Figure size 1152x720 with 1 Axes>"
      ]
     },
     "metadata": {
      "needs_background": "light"
     },
     "output_type": "display_data"
    }
   ],
   "source": [
    "plt.figure(figsize=(16, 10))\n",
    "# print(model.feature_importances_)\n",
    "feat_importances = pd.Series(clf.feature_importances_, index=X_train.columns)\n",
    "feat_importances.nlargest(29).plot(kind='barh') \n",
    "plt.show()"
   ]
  },
  {
   "cell_type": "code",
   "execution_count": 18,
   "id": "81ffbfb1",
   "metadata": {},
   "outputs": [],
   "source": [
    "inertia_arr = []\n",
    "k_range = range(10, 40)\n",
    "\n",
    "for k in k_range:\n",
    "    KM = KMeans(n_clusters=k, random_state=2022, init='k-means++')\n",
    "    KM.fit(X_train)\n",
    "    interia = KM.inertia_\n",
    "    inertia_arr.append(interia)\n",
    "    \n",
    "#     print('k: ', k, 'inertia: ', interia)\n",
    "\n",
    "inertia_arr = np.array(inertia_arr)"
   ]
  },
  {
   "cell_type": "code",
   "execution_count": 19,
   "id": "ae19f58a",
   "metadata": {},
   "outputs": [
    {
     "data": {
      "image/png": "[encoded data removed]",
      "text/plain": [
       "<Figure size 432x288 with 1 Axes>"
      ]
     },
     "metadata": {
      "needs_background": "light"
     },
     "output_type": "display_data"
    }
   ],
   "source": [
    "plt.plot(k_range, inertia_arr)\n",
    "plt.vlines(16, ymin = inertia_arr.min()*0.999, ymax = inertia_arr.max()*1.0003, linestyles = '--', colors = 'r')\n",
    "plt.vlines(29, ymin = inertia_arr.min()*0.999, ymax = inertia_arr.max()*1.0003, linestyles = '--', colors = 'r')\n",
    "plt.show()"
   ]
  },
  {
   "cell_type": "code",
   "execution_count": 20,
   "id": "62d177a3",
   "metadata": {},
   "outputs": [],
   "source": [
    "silhouette_vals = []\n",
    "for k in range(10, 40):\n",
    "    KMS = KMeans(n_clusters = k, init = 'k-means++', random_state = 2022)\n",
    "    pred = KMS.fit_predict(X_train)\n",
    "    silhouette_vals.append(np.mean(silhouette_samples(X_train, pred, metric = 'euclidean')))"
   ]
  },
  {
   "cell_type": "code",
   "execution_count": 21,
   "id": "29746a96",
   "metadata": {},
   "outputs": [
    {
     "data": {
      "image/png": "[encoded data removed]",
      "text/plain": [
       "<Figure size 432x288 with 1 Axes>"
      ]
     },
     "metadata": {
      "needs_background": "light"
     },
     "output_type": "display_data"
    }
   ],
   "source": [
    "plt.plot(range(10, 40), silhouette_vals)\n",
    "plt.show()"
   ]
  },
  {
   "cell_type": "code",
   "execution_count": 22,
   "id": "8b6a8e0b",
   "metadata": {},
   "outputs": [
    {
     "name": "stdout",
     "output_type": "stream",
     "text": [
      "k:  10 score:  0.21764782001124855\n",
      "k:  11 score:  0.25189865606780065\n",
      "k:  12 score:  0.24839507883106404\n",
      "k:  13 score:  0.24191304204771247\n",
      "k:  14 score:  0.2480068225385309\n",
      "k:  15 score:  0.24420753411231708\n",
      "k:  16 score:  0.25886483267007854\n",
      "k:  17 score:  0.2513171870370055\n",
      "k:  18 score:  0.1469264640408109\n",
      "k:  19 score:  0.15579292828922753\n",
      "k:  20 score:  0.1409429617732081\n",
      "k:  21 score:  0.15386915011485233\n",
      "k:  22 score:  0.1585579995264582\n",
      "k:  23 score:  0.15893243901005766\n",
      "k:  24 score:  0.1435739219851979\n",
      "k:  25 score:  0.16628103276932954\n",
      "k:  26 score:  0.14219696229216355\n",
      "k:  27 score:  0.14411259840140894\n",
      "k:  28 score:  0.1528601340999342\n",
      "k:  29 score:  0.12051572392394959\n",
      "k:  30 score:  0.12546693531238967\n",
      "k:  31 score:  0.1271233831736543\n",
      "k:  32 score:  0.13166086673000882\n",
      "k:  33 score:  0.14437559923510404\n",
      "k:  34 score:  0.1419609328763181\n",
      "k:  35 score:  0.1451881634754419\n",
      "k:  36 score:  0.145882905963355\n",
      "k:  37 score:  0.14435161790772613\n",
      "k:  38 score:  0.14838055207053322\n",
      "k:  39 score:  0.15123289783530153\n",
      "best n:  16 best_score:  0.25886483267007854\n"
     ]
    }
   ],
   "source": [
    "best_n = -1\n",
    "best_silhouette_score = -1\n",
    "\n",
    "for k in range(10, 40):\n",
    "    kmeans = KMeans(n_clusters = k, random_state = 2022)\n",
    "    kmeans.fit(X_train)\n",
    "    clusters = kmeans.predict(X_train)\n",
    "    \n",
    "    score = silhouette_score(X_train, clusters)\n",
    "    print('k: ', k, 'score: ', score)\n",
    "    \n",
    "    if score > best_silhouette_score:\n",
    "        best_n = k\n",
    "        best_silhouette_score = score\n",
    "\n",
    "print('best n: ', best_n, 'best_score: ', best_silhouette_score)"
   ]
  },
  {
   "cell_type": "markdown",
   "id": "e019b7a3",
   "metadata": {},
   "source": [
    "### RandomForestClassifier"
   ]
  },
  {
   "cell_type": "code",
   "execution_count": 23,
   "id": "af02e60f",
   "metadata": {},
   "outputs": [],
   "source": [
    "# from sklearn.model_selection import GridSearchCV\n",
    "\n",
    "# params = { 'n_estimators' : [1000, 2000, 3000, 4000],\n",
    "#            'max_depth' : [6, 8],\n",
    "#            'min_samples_leaf' : [4, 8],\n",
    "#            'min_samples_split' : [4, 8]\n",
    "#             }\n",
    "\n",
    "# rf_clf = RandomForestClassifier(random_state = 0, n_jobs = -1)\n",
    "# grid_cv = GridSearchCV(rf_clf, param_grid = params, cv = 3, n_jobs = -1)\n",
    "# grid_cv.fit(X_train, y_train)\n",
    "\n",
    "# print('Optimal Hyperparameter: ', grid_cv.best_params_)\n",
    "# print('Max Prediction Accuacry: {:.4f}'.format(grid_cv.best_score_))"
   ]
  },
  {
   "cell_type": "code",
   "execution_count": 24,
   "id": "2312ac84",
   "metadata": {},
   "outputs": [],
   "source": [
    "# Optimal Hyperparameter:  {'max_depth': 8, 'min_samples_leaf': 4, 'max_samples_split': 4, 'n_estimators': 2000}"
   ]
  },
  {
   "cell_type": "code",
   "execution_count": 25,
   "id": "b94ddccb",
   "metadata": {
    "scrolled": false
   },
   "outputs": [
    {
     "name": "stdout",
     "output_type": "stream",
     "text": [
      "              precision    recall  f1-score   support\n",
      "\n",
      "           0       0.83      0.93      0.87        82\n",
      "           1       0.77      0.56      0.65        36\n",
      "\n",
      "    accuracy                           0.81       118\n",
      "   macro avg       0.80      0.74      0.76       118\n",
      "weighted avg       0.81      0.81      0.80       118\n",
      "\n",
      "accuracy score: 0.8135593220338984\n",
      "auc score:  0.7411924119241193\n"
     ]
    }
   ],
   "source": [
    "clf = RandomForestClassifier(n_estimators = 2000, max_depth = 8, class_weight=\"balanced\", random_state=2022)\n",
    "clf.fit(X_train, y_train)\n",
    "\n",
    "y_pred = clf.predict(X_test)\n",
    "print(classification_report(y_test, y_pred))\n",
    "print('accuracy score:', accuracy_score(y_test, y_pred))\n",
    "\n",
    "fpr, tpr, thresholds = metrics.roc_curve(y_test, y_pred)\n",
    "print('auc score: ', metrics.auc(fpr, tpr))"
   ]
  },
  {
   "cell_type": "code",
   "execution_count": 26,
   "id": "47a37041",
   "metadata": {},
   "outputs": [
    {
     "data": {
      "image/png": "[encoded data removed]",
      "text/plain": [
       "<Figure size 1152x720 with 1 Axes>"
      ]
     },
     "metadata": {
      "needs_background": "light"
     },
     "output_type": "display_data"
    }
   ],
   "source": [
    "plt.figure(figsize=(16, 10))\n",
    "# print(model.feature_importances_)\n",
    "feat_importances = pd.Series(clf.feature_importances_, index=X_train.columns)\n",
    "feat_importances.nlargest(16).plot(kind='barh') \n",
    "plt.show()"
   ]
  },
  {
   "cell_type": "code",
   "execution_count": 27,
   "id": "500c87ba",
   "metadata": {},
   "outputs": [],
   "source": [
    "# feat_importances = pd.DataFrame(feat_importances)\n",
    "# feat_importances['feat_importances'] = feat_importances.index\n",
    "# feat_importances = feat_importances.nlargest(29, 0)"
   ]
  },
  {
   "cell_type": "markdown",
   "id": "6e7d1da7",
   "metadata": {},
   "source": [
    "### ExtraTreesClassifier"
   ]
  },
  {
   "cell_type": "code",
   "execution_count": 28,
   "id": "5d4d638d",
   "metadata": {},
   "outputs": [
    {
     "name": "stdout",
     "output_type": "stream",
     "text": [
      "              precision    recall  f1-score   support\n",
      "\n",
      "           0       0.83      0.93      0.87        82\n",
      "           1       0.77      0.56      0.65        36\n",
      "\n",
      "    accuracy                           0.81       118\n",
      "   macro avg       0.80      0.74      0.76       118\n",
      "weighted avg       0.81      0.81      0.80       118\n",
      "\n",
      "accuracy score: 0.8135593220338984\n",
      "auc score:  0.7411924119241193\n"
     ]
    }
   ],
   "source": [
    "etc_model = ExtraTreesClassifier(n_estimators = 2000, class_weight=\"balanced\", max_depth=8, random_state=2022)\n",
    "etc_model.fit(X_train, y_train)\n",
    "#print(etc_model.feature_importances_)\n",
    "feature_list = pd.concat([pd.Series(AML_check.columns), pd.Series(etc_model.feature_importances_)], axis=1)\n",
    "feature_list.columns = ['features_name', 'importance']\n",
    "feature_list.sort_values(\"importance\", ascending =False)[:30]\n",
    "\n",
    "y_pred = clf.predict(X_test)\n",
    "print(classification_report(y_test, y_pred))\n",
    "print('accuracy score:', accuracy_score(y_test, y_pred))\n",
    "\n",
    "fpr, tpr, thresholds = metrics.roc_curve(y_test, y_pred)\n",
    "print('auc score: ', metrics.auc(fpr, tpr))\n"
   ]
  },
  {
   "cell_type": "code",
   "execution_count": 29,
   "id": "38d03e59",
   "metadata": {},
   "outputs": [
    {
     "data": {
      "image/png": "[encoded data removed]",
      "text/plain": [
       "<Figure size 1152x720 with 1 Axes>"
      ]
     },
     "metadata": {
      "needs_background": "light"
     },
     "output_type": "display_data"
    }
   ],
   "source": [
    "plt.figure(figsize=(16, 10))\n",
    "feature_list2 = pd.Series(etc_model.feature_importances_, index=X_train.columns)\n",
    "feature_list2.nlargest(29).plot(kind='barh') \n",
    "plt.show()"
   ]
  },
  {
   "cell_type": "code",
   "execution_count": 30,
   "id": "e9a6684b",
   "metadata": {},
   "outputs": [],
   "source": [
    "# x_trains = AML_check[feat_importances['feat_importances']]"
   ]
  },
  {
   "cell_type": "code",
   "execution_count": 31,
   "id": "fccfcaee",
   "metadata": {},
   "outputs": [],
   "source": [
    "# X_train, X_test, y_train, y_test = train_test_split(x_trains, y_trains, test_size = 0.2, random_state = 2022)"
   ]
  },
  {
   "cell_type": "code",
   "execution_count": 32,
   "id": "9a092a39",
   "metadata": {},
   "outputs": [],
   "source": [
    "# selectK = SelectKBest(score_func=f_classif, k=29)\n",
    "# X = selectK.fit_transform(X, y)"
   ]
  },
  {
   "cell_type": "code",
   "execution_count": 33,
   "id": "fa73b3b7",
   "metadata": {},
   "outputs": [],
   "source": [
    "# from sklearn import svm\n",
    "# clf = svm.SVC(gamma=0.001, class_weight=\"balanced\", random_state = 2022)\n",
    "# clf.fit(X_train, y_train)"
   ]
  },
  {
   "cell_type": "code",
   "execution_count": 34,
   "id": "9c3ec093",
   "metadata": {},
   "outputs": [],
   "source": [
    "# y_pred = clf.predict(X_test)\n",
    "# print(classification_report(y_test, y_pred))\n",
    "# print('accuracy score:', accuracy_score(y_test, y_pred))\n",
    "\n",
    "# fpr, tpr, thresholds = metrics.roc_curve(y_test, y_pred)\n",
    "# print('auc score: ', metrics.auc(fpr, tpr))"
   ]
  },
  {
   "cell_type": "code",
   "execution_count": 35,
   "id": "ef432fb4",
   "metadata": {},
   "outputs": [],
   "source": [
    "# clf = ExtraTreesClassifier(n_estimators = 1000, class_weight=\"balanced\", max_depth=4, random_state = 2022)\n",
    "# clf.fit(X_train, y_train)"
   ]
  },
  {
   "cell_type": "code",
   "execution_count": 36,
   "id": "9fc60096",
   "metadata": {},
   "outputs": [],
   "source": [
    "# y_pred = clf.predict(X_test)\n",
    "# print(classification_report(y_test, y_pred))\n",
    "# print('accuracy score:', accuracy_score(y_test, y_pred))\n",
    "\n",
    "# fpr, tpr, thresholds = metrics.roc_curve(y_test, y_pred)\n",
    "# print('auc score: ', metrics.auc(fpr, tpr))"
   ]
  },
  {
   "cell_type": "code",
   "execution_count": 37,
   "id": "4ea547ff",
   "metadata": {},
   "outputs": [],
   "source": [
    "# clf = GaussianNB()\n",
    "# clf.fit(X_train, y_train)"
   ]
  },
  {
   "cell_type": "code",
   "execution_count": 38,
   "id": "cfc069a2",
   "metadata": {},
   "outputs": [],
   "source": [
    "# y_pred = nb.predict(X_test)\n",
    "# print(classification_report(y_test, y_pred))\n",
    "# print('accuracy score:', accuracy_score(y_test, y_pred))\n",
    "\n",
    "# fpr, tpr, thresholds = metrics.roc_curve(y_test, y_pred)\n",
    "# print('auc score: ', metrics.auc(fpr, tpr))"
   ]
  }
 ],
 "metadata": {
  "kernelspec": {
   "display_name": "Python 3 (ipykernel)",
   "language": "python",
   "name": "python3"
  },
  "language_info": {
   "codemirror_mode": {
    "name": "ipython",
    "version": 3
   },
   "file_extension": ".py",
   "mimetype": "text/x-python",
   "name": "python",
   "nbconvert_exporter": "python",
   "pygments_lexer": "ipython3",
   "version": "3.9.12"
  }
 },
 "nbformat": 4,
 "nbformat_minor": 5
}
